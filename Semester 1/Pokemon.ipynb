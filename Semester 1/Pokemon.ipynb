{
 "cells": [
  {
   "cell_type": "markdown",
   "id": "684029ab-fb2c-47b1-83fc-92ec429fb5d8",
   "metadata": {},
   "source": [
    "# How much money did the first Pokemon game make compared to the other Pokemon games?\n"
   ]
  },
  {
   "cell_type": "markdown",
   "id": "9d26cade-1588-46ec-9f67-d4244a66da54",
   "metadata": {},
   "source": [
    "I will first collect data on how much money each Pokemon game made, and then I will compare the amount of money the first game made with the rest of the games using a histogram. This is an Observational study since I am not changing any variables to get different data. I won't be examining a sample, but all of the games released in the main series. \n"
   ]
  },
  {
   "cell_type": "code",
   "execution_count": null,
   "id": "f996c4c7-daab-410e-aaf6-a640afc6cd98",
   "metadata": {},
   "outputs": [],
   "source": []
  }
 ],
 "metadata": {
  "kernelspec": {
   "display_name": "anaconda-ai-2024.04-py310",
   "language": "python",
   "name": "conda-env-anaconda-ai-2024.04-py310-py"
  },
  "language_info": {
   "codemirror_mode": {
    "name": "ipython",
    "version": 3
   },
   "file_extension": ".py",
   "mimetype": "text/x-python",
   "name": "python",
   "nbconvert_exporter": "python",
   "pygments_lexer": "ipython3",
   "version": "3.10.13"
  }
 },
 "nbformat": 4,
 "nbformat_minor": 5
}
