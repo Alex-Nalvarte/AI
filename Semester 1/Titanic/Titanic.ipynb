{
 "cells": [
  {
   "cell_type": "code",
   "execution_count": null,
   "id": "3613af5a-784f-45bd-9818-b703f8141b1e",
   "metadata": {},
   "outputs": [],
   "source": []
  },
  {
   "cell_type": "markdown",
   "id": "b1d9d016-ae0d-49fc-bd27-1c98c35517a4",
   "metadata": {},
   "source": [
    "#How did the class of a passengers affect how likely they were to survive the sinking of the Titanic?"
   ]
  },
  {
   "cell_type": "markdown",
   "id": "af96ecd4-19ab-4d19-be96-cd09de1f6e97",
   "metadata": {},
   "source": [
    "I am going to answer my question by looking at the data, specifically the class each passenger was in, and how many survived and died"
   ]
  },
  {
   "cell_type": "markdown",
   "id": "dfbf0f73-07c9-49f9-b4dc-1c5f07fb69e8",
   "metadata": {},
   "source": [
    "Retrospective Observational Study"
   ]
  },
  {
   "cell_type": "markdown",
   "id": "e9c4975f-248a-4fbe-b499-ea7e6a0ea33d",
   "metadata": {},
   "source": []
  },
  {
   "cell_type": "code",
   "execution_count": 140,
   "id": "4a6ea7e4-8a30-4d82-8cd6-e6890244f4ad",
   "metadata": {
    "scrolled": true
   },
   "outputs": [],
   "source": [
    "import pandas as pd"
   ]
  },
  {
   "cell_type": "code",
   "execution_count": 141,
   "id": "8759fda9-9772-47ad-bc51-1f1ff0e4a344",
   "metadata": {
    "scrolled": true
   },
   "outputs": [],
   "source": [
    "titanic_data_filename = 'titanic.csv'\n",
    "df_csv = pd.read_csv(titanic_data_filename)"
   ]
  },
  {
   "cell_type": "code",
   "execution_count": 142,
   "id": "b0edcdd0-d367-413c-b0bb-524ff63f0f15",
   "metadata": {},
   "outputs": [],
   "source": [
    "firstClassAlive = df_csv[(df_csv['Survived'] == 1) & (df_csv['Pclass'] == 1)]\n",
    "firstClassDead = df_csv[(df_csv['Survived'] == 0) & (df_csv['Pclass'] == 1)]\n",
    "secondClassAlive = df_csv[(df_csv['Survived'] == 1) & (df_csv['Pclass'] == 2)]\n",
    "secondClassDead = df_csv[(df_csv['Survived'] == 0) & (df_csv['Pclass'] == 2)]\n",
    "thirdClassAlive = df_csv[(df_csv['Survived'] == 1) & (df_csv['Pclass'] == 3)]\n",
    "thirdClassDead = df_csv[(df_csv['Survived'] == 0) & (df_csv['Pclass'] == 3)]"
   ]
  },
  {
   "cell_type": "code",
   "execution_count": 143,
   "id": "ae7b9948-15c6-4a1e-a804-70694ae0880e",
   "metadata": {},
   "outputs": [],
   "source": [
    "#print(firstClassAlive) #136 rows "
   ]
  },
  {
   "cell_type": "code",
   "execution_count": 144,
   "id": "bc225c70-f5b2-462c-9501-6eb6010f593a",
   "metadata": {},
   "outputs": [],
   "source": [
    "#print(firstClassDead) #80 rows"
   ]
  },
  {
   "cell_type": "code",
   "execution_count": 145,
   "id": "b5e62d0f-5d03-476d-a78c-fc503104728f",
   "metadata": {},
   "outputs": [],
   "source": [
    "#print(secondClassAlive) #87 Rows"
   ]
  },
  {
   "cell_type": "code",
   "execution_count": 146,
   "id": "e5525cd5-a83e-41ba-8e2d-06a12dc460c7",
   "metadata": {},
   "outputs": [],
   "source": [
    "#print(secondClassDead) # 97 rows"
   ]
  },
  {
   "cell_type": "code",
   "execution_count": 147,
   "id": "57ac7e06-d3ae-4cb0-bf69-568069422659",
   "metadata": {},
   "outputs": [],
   "source": [
    "#print(thirdClassAlive) #119 rows"
   ]
  },
  {
   "cell_type": "code",
   "execution_count": 148,
   "id": "c09139f0-d976-47d0-8582-d2b1a5a92ae1",
   "metadata": {},
   "outputs": [],
   "source": [
    "#print(thirdClassDead) #372 rows"
   ]
  },
  {
   "cell_type": "code",
   "execution_count": 149,
   "id": "aaad7fae-1494-49a7-a7fd-24678cc99068",
   "metadata": {},
   "outputs": [],
   "source": [
    "#df_csv.head #891 rows"
   ]
  },
  {
   "cell_type": "code",
   "execution_count": null,
   "id": "fa3ebf97-ecbb-4138-a08d-3602cec6ea31",
   "metadata": {},
   "outputs": [],
   "source": [
    "#216 FC, 184 SC, 491 TC, \n",
    "#136/216 = 62.96% FCA, 80/216 = 37.04% FCD, 87/184 = 42.28% SCA, 97/184 = 52.72% SCD\n",
    "#119/491 = 24.24% TCA, 372/491 75.76 TCD\n",
    "#342/891 - About 38.38% of all Titanic Passengers survived\n",
    "# Out of those who survived: 39.77% FCS, 25.44% SCS, 34.79%\n",
    "#There were 342 survivors of the Titanic based on the data, 136 FC, 87 SC, 119 TC\n",
    "#If you were a second class passenger, you were the least likely to survive the sinking of the Titanic\n",
    "#The least percentage of survival, actual number of people who survived, and percentage of people who survived\n",
    "#Third Class Passengers had the second highest percentage of people who survived, but only 24 percent of third class passengers actually survived;\n",
    "#First Class Passengers had the highest percentage of people who survived, highest number of people who survived, and the highest percentage of survivors were first class\n",
    "\n"
   ]
  },
  {
   "cell_type": "markdown",
   "id": "6ec3f280-6f9a-4b57-9317-f7e100f59c53",
   "metadata": {},
   "source": [
    "The third class passengers were the least likely to survive, only 24.24% of third class passengers survived, as compared to second class (42.28%) and first class (62.96%). While second class passengers had the least number of survivors, it was also the class with the least amount of passengers. First class passengers were the most likely to survive with 62.96% of passengers survivng, 136/216 first class passengers survived according to the data. "
   ]
  },
  {
   "cell_type": "markdown",
   "id": "ff2aa76c-928b-45e8-ac60-1ce4ff071b74",
   "metadata": {},
   "source": [
    "The class that a passenger belonged to correlated to their likelihood of survival of the sinking of the titanic. A first class passenger was most likely to survive, a second class passenger was more likely to survive compared to a third class passenger, but less likely compared to a first class passenger. Third class passengers were the least likely to survive. "
   ]
  }
 ],
 "metadata": {
  "kernelspec": {
   "display_name": "anaconda-ai-2024.04-py310",
   "language": "python",
   "name": "conda-env-anaconda-ai-2024.04-py310-py"
  },
  "language_info": {
   "codemirror_mode": {
    "name": "ipython",
    "version": 3
   },
   "file_extension": ".py",
   "mimetype": "text/x-python",
   "name": "python",
   "nbconvert_exporter": "python",
   "pygments_lexer": "ipython3",
   "version": "3.10.13"
  }
 },
 "nbformat": 4,
 "nbformat_minor": 5
}
